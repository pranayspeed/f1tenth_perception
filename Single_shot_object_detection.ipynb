{
  "cells": [
    {
      "cell_type": "code",
      "execution_count": 2,
      "metadata": {
        "colab": {
          "base_uri": "https://localhost:8080/"
        },
        "id": "PWpHo0SYxzQE",
        "outputId": "efa477ee-47e6-4aff-a1c9-79d81ccf4ef6"
      },
      "outputs": [
        {
          "name": "stdout",
          "output_type": "stream",
          "text": [
            "Defaulting to user installation because normal site-packages is not writeable\n",
            "Requirement already satisfied: tensorflow in /Users/pranayspeed/miniforge3/lib/python3.9/site-packages (2.7.0)\n",
            "Requirement already satisfied: keras<2.8,>=2.7.0rc0 in /Users/pranayspeed/miniforge3/lib/python3.9/site-packages (from tensorflow) (2.7.0)\n",
            "Requirement already satisfied: typing-extensions>=3.6.6 in /Users/pranayspeed/.local/lib/python3.9/site-packages (from tensorflow) (4.3.0)\n",
            "Requirement already satisfied: grpcio<2.0,>=1.24.3 in /Users/pranayspeed/miniforge3/lib/python3.9/site-packages (from tensorflow) (1.42.0)\n",
            "Requirement already satisfied: keras-preprocessing>=1.1.1 in /Users/pranayspeed/miniforge3/lib/python3.9/site-packages (from tensorflow) (1.1.2)\n",
            "Requirement already satisfied: wrapt>=1.11.0 in /Users/pranayspeed/miniforge3/lib/python3.9/site-packages (from tensorflow) (1.14.1)\n",
            "Requirement already satisfied: six>=1.12.0 in /Users/pranayspeed/miniforge3/lib/python3.9/site-packages (from tensorflow) (1.16.0)\n",
            "Requirement already satisfied: absl-py>=0.4.0 in /Users/pranayspeed/miniforge3/lib/python3.9/site-packages (from tensorflow) (1.2.0)\n",
            "Requirement already satisfied: numpy>=1.14.5 in /Users/pranayspeed/.local/lib/python3.9/site-packages (from tensorflow) (1.23.3)\n",
            "Requirement already satisfied: tensorflow-estimator<2.8,~=2.7.0rc0 in /Users/pranayspeed/miniforge3/lib/python3.9/site-packages (from tensorflow) (2.7.0)\n",
            "Requirement already satisfied: google-pasta>=0.1.1 in /Users/pranayspeed/miniforge3/lib/python3.9/site-packages (from tensorflow) (0.2.0)\n",
            "Requirement already satisfied: gast<0.5.0,>=0.2.1 in /Users/pranayspeed/miniforge3/lib/python3.9/site-packages (from tensorflow) (0.4.0)\n",
            "Requirement already satisfied: protobuf>=3.9.2 in /Users/pranayspeed/.local/lib/python3.9/site-packages (from tensorflow) (3.19.6)\n",
            "Requirement already satisfied: opt-einsum>=2.3.2 in /Users/pranayspeed/miniforge3/lib/python3.9/site-packages (from tensorflow) (3.3.0)\n",
            "Requirement already satisfied: termcolor>=1.1.0 in /Users/pranayspeed/miniforge3/lib/python3.9/site-packages (from tensorflow) (2.0.1)\n",
            "Requirement already satisfied: flatbuffers<3.0,>=1.12 in /Users/pranayspeed/miniforge3/lib/python3.9/site-packages (from tensorflow) (2.0)\n",
            "Requirement already satisfied: tensorboard~=2.6 in /Users/pranayspeed/.local/lib/python3.9/site-packages (from tensorflow) (2.10.0)\n",
            "Requirement already satisfied: h5py>=2.9.0 in /Users/pranayspeed/miniforge3/lib/python3.9/site-packages (from tensorflow) (3.6.0)\n",
            "Requirement already satisfied: astunparse>=1.6.0 in /Users/pranayspeed/miniforge3/lib/python3.9/site-packages (from tensorflow) (1.6.3)\n",
            "Requirement already satisfied: wheel<1.0,>=0.23.0 in /Users/pranayspeed/miniforge3/lib/python3.9/site-packages (from astunparse>=1.6.0->tensorflow) (0.37.1)\n",
            "Requirement already satisfied: tensorboard-plugin-wit>=1.6.0 in /Users/pranayspeed/miniforge3/lib/python3.9/site-packages (from tensorboard~=2.6->tensorflow) (1.8.1)\n",
            "Requirement already satisfied: markdown>=2.6.8 in /Users/pranayspeed/miniforge3/lib/python3.9/site-packages (from tensorboard~=2.6->tensorflow) (3.4.1)\n",
            "Requirement already satisfied: google-auth<3,>=1.6.3 in /Users/pranayspeed/miniforge3/lib/python3.9/site-packages (from tensorboard~=2.6->tensorflow) (1.35.0)\n",
            "Requirement already satisfied: tensorboard-data-server<0.7.0,>=0.6.0 in /Users/pranayspeed/miniforge3/lib/python3.9/site-packages (from tensorboard~=2.6->tensorflow) (0.6.0)\n",
            "Requirement already satisfied: google-auth-oauthlib<0.5,>=0.4.1 in /Users/pranayspeed/miniforge3/lib/python3.9/site-packages (from tensorboard~=2.6->tensorflow) (0.4.6)\n",
            "Requirement already satisfied: requests<3,>=2.21.0 in /Users/pranayspeed/miniforge3/lib/python3.9/site-packages (from tensorboard~=2.6->tensorflow) (2.28.1)\n",
            "Requirement already satisfied: werkzeug>=1.0.1 in /Users/pranayspeed/miniforge3/lib/python3.9/site-packages (from tensorboard~=2.6->tensorflow) (2.2.2)\n",
            "Requirement already satisfied: setuptools>=41.0.0 in /Users/pranayspeed/miniforge3/lib/python3.9/site-packages (from tensorboard~=2.6->tensorflow) (65.3.0)\n",
            "Requirement already satisfied: pyasn1-modules>=0.2.1 in /Users/pranayspeed/miniforge3/lib/python3.9/site-packages (from google-auth<3,>=1.6.3->tensorboard~=2.6->tensorflow) (0.2.7)\n",
            "Requirement already satisfied: cachetools<5.0,>=2.0.0 in /Users/pranayspeed/miniforge3/lib/python3.9/site-packages (from google-auth<3,>=1.6.3->tensorboard~=2.6->tensorflow) (4.2.4)\n",
            "Requirement already satisfied: rsa<5,>=3.1.4 in /Users/pranayspeed/miniforge3/lib/python3.9/site-packages (from google-auth<3,>=1.6.3->tensorboard~=2.6->tensorflow) (4.9)\n",
            "Requirement already satisfied: requests-oauthlib>=0.7.0 in /Users/pranayspeed/miniforge3/lib/python3.9/site-packages (from google-auth-oauthlib<0.5,>=0.4.1->tensorboard~=2.6->tensorflow) (1.3.1)\n",
            "Requirement already satisfied: importlib-metadata>=4.4 in /Users/pranayspeed/miniforge3/lib/python3.9/site-packages (from markdown>=2.6.8->tensorboard~=2.6->tensorflow) (4.11.4)\n",
            "Requirement already satisfied: idna<4,>=2.5 in /Users/pranayspeed/miniforge3/lib/python3.9/site-packages (from requests<3,>=2.21.0->tensorboard~=2.6->tensorflow) (3.3)\n",
            "Requirement already satisfied: urllib3<1.27,>=1.21.1 in /Users/pranayspeed/miniforge3/lib/python3.9/site-packages (from requests<3,>=2.21.0->tensorboard~=2.6->tensorflow) (1.26.11)\n",
            "Requirement already satisfied: certifi>=2017.4.17 in /Users/pranayspeed/miniforge3/lib/python3.9/site-packages (from requests<3,>=2.21.0->tensorboard~=2.6->tensorflow) (2022.9.14)\n",
            "Requirement already satisfied: charset-normalizer<3,>=2 in /Users/pranayspeed/miniforge3/lib/python3.9/site-packages (from requests<3,>=2.21.0->tensorboard~=2.6->tensorflow) (2.1.1)\n",
            "Requirement already satisfied: MarkupSafe>=2.1.1 in /Users/pranayspeed/miniforge3/lib/python3.9/site-packages (from werkzeug>=1.0.1->tensorboard~=2.6->tensorflow) (2.1.1)\n",
            "Requirement already satisfied: zipp>=0.5 in /Users/pranayspeed/miniforge3/lib/python3.9/site-packages (from importlib-metadata>=4.4->markdown>=2.6.8->tensorboard~=2.6->tensorflow) (3.8.1)\n",
            "Requirement already satisfied: pyasn1<0.5.0,>=0.4.6 in /Users/pranayspeed/miniforge3/lib/python3.9/site-packages (from pyasn1-modules>=0.2.1->google-auth<3,>=1.6.3->tensorboard~=2.6->tensorflow) (0.4.8)\n",
            "Requirement already satisfied: oauthlib>=3.0.0 in /Users/pranayspeed/miniforge3/lib/python3.9/site-packages (from requests-oauthlib>=0.7.0->google-auth-oauthlib<0.5,>=0.4.1->tensorboard~=2.6->tensorflow) (3.2.1)\n"
          ]
        }
      ],
      "source": [
        "!pip install -U --pre tensorflow #==\"2.2.0\""
      ]
    },
    {
      "cell_type": "code",
      "execution_count": 3,
      "metadata": {
        "colab": {
          "base_uri": "https://localhost:8080/"
        },
        "id": "hLwmZKvyxzve",
        "outputId": "8d187cca-cdca-4e19-e18f-b60c19dc4f11"
      },
      "outputs": [
        {
          "name": "stdout",
          "output_type": "stream",
          "text": [
            "Cloning into 'models'...\n",
            "remote: Enumerating objects: 3496, done.\u001b[K\n",
            "remote: Counting objects: 100% (3496/3496), done.\u001b[K\n",
            "remote: Compressing objects: 100% (2907/2907), done.\u001b[K\n",
            "remote: Total 3496 (delta 918), reused 1479 (delta 536), pack-reused 0\u001b[K\n",
            "Receiving objects: 100% (3496/3496), 46.95 MiB | 3.29 MiB/s, done.\n",
            "Resolving deltas: 100% (918/918), done.\n"
          ]
        }
      ],
      "source": [
        "import os\n",
        "import pathlib\n",
        "\n",
        "# Clone the tensorflow models repository if it doesn't already exist\n",
        "if \"models\" in pathlib.Path.cwd().parts:\n",
        "  while \"models\" in pathlib.Path.cwd().parts:\n",
        "    os.chdir('..')\n",
        "elif not pathlib.Path('models').exists():\n",
        "  !git clone --depth 1 https://github.com/tensorflow/models"
      ]
    },
    {
      "cell_type": "code",
      "execution_count": 4,
      "metadata": {
        "id": "NXgNQz52x57z"
      },
      "outputs": [
        {
          "ename": "SyntaxError",
          "evalue": "invalid syntax (820332112.py, line 3)",
          "output_type": "error",
          "traceback": [
            "\u001b[0;36m  Cell \u001b[0;32mIn [4], line 3\u001b[0;36m\u001b[0m\n\u001b[0;31m    cd models/research/\u001b[0m\n\u001b[0m       ^\u001b[0m\n\u001b[0;31mSyntaxError\u001b[0m\u001b[0;31m:\u001b[0m invalid syntax\n"
          ]
        }
      ],
      "source": [
        "# Install the Object Detection API\n",
        "%%bash\n",
        "cd models/research/\n",
        "protoc object_detection/protos/*.proto --python_out=.\n",
        "cp object_detection/packages/tf2/setup.py .\n",
        "python -m pip install ."
      ]
    },
    {
      "cell_type": "code",
      "execution_count": null,
      "metadata": {
        "id": "vpkxFhrryAK3"
      },
      "outputs": [],
      "source": [
        "import matplotlib\n",
        "import matplotlib.pyplot as plt\n",
        "\n",
        "import os\n",
        "import random\n",
        "import io\n",
        "import imageio\n",
        "import glob\n",
        "import scipy.misc\n",
        "import numpy as np\n",
        "from six import BytesIO\n",
        "from PIL import Image, ImageDraw, ImageFont\n",
        "from IPython.display import display, Javascript\n",
        "from IPython.display import Image as IPyImage\n",
        "\n",
        "import tensorflow as tf\n",
        "\n",
        "from object_detection.utils import label_map_util\n",
        "from object_detection.utils import config_util\n",
        "from object_detection.utils import visualization_utils as viz_utils\n",
        "from object_detection.utils import colab_utils\n",
        "from object_detection.builders import model_builder\n",
        "\n",
        "%matplotlib inline"
      ]
    },
    {
      "cell_type": "code",
      "execution_count": null,
      "metadata": {
        "id": "uGGLcBWeyPwz"
      },
      "outputs": [],
      "source": [
        "def load_image_into_numpy_array(path):\n",
        "  \"\"\"Load an image from file into a numpy array.\n",
        "\n",
        "  Puts image into numpy array to feed into tensorflow graph.\n",
        "  Note that by convention we put it into a numpy array with shape\n",
        "  (height, width, channels), where channels=3 for RGB.\n",
        "\n",
        "  Args:\n",
        "    path: a file path.\n",
        "\n",
        "  Returns:\n",
        "    uint8 numpy array with shape (img_height, img_width, 3)\n",
        "  \"\"\"\n",
        "  img_data = tf.io.gfile.GFile(path, 'rb').read()\n",
        "  image = Image.open(BytesIO(img_data))\n",
        "  (im_width, im_height) = image.size\n",
        "  return np.array(image.getdata()).reshape(\n",
        "      (im_height, im_width, 3)).astype(np.uint8)\n",
        "\n",
        "def plot_detections(image_np,\n",
        "                    boxes,\n",
        "                    classes,\n",
        "                    scores,\n",
        "                    category_index,\n",
        "                    figsize=(12, 16),\n",
        "                    image_name=None):\n",
        "  \"\"\"Wrapper function to visualize detections.\n",
        "\n",
        "  Args:\n",
        "    image_np: uint8 numpy array with shape (img_height, img_width, 3)\n",
        "    boxes: a numpy array of shape [N, 4]\n",
        "    classes: a numpy array of shape [N]. Note that class indices are 1-based,\n",
        "      and match the keys in the label map.\n",
        "    scores: a numpy array of shape [N] or None.  If scores=None, then\n",
        "      this function assumes that the boxes to be plotted are groundtruth\n",
        "      boxes and plot all boxes as black with no classes or scores.\n",
        "    category_index: a dict containing category dictionaries (each holding\n",
        "      category index `id` and category name `name`) keyed by category indices.\n",
        "    figsize: size for the figure.\n",
        "    image_name: a name for the image file.\n",
        "  \"\"\"\n",
        "  image_np_with_annotations = image_np.copy()\n",
        "  viz_utils.visualize_boxes_and_labels_on_image_array(\n",
        "      image_np_with_annotations,\n",
        "      boxes,\n",
        "      classes,\n",
        "      scores,\n",
        "      category_index,\n",
        "      use_normalized_coordinates=True,\n",
        "      min_score_thresh=0.8)\n",
        "  if image_name:\n",
        "    plt.imsave(image_name, image_np_with_annotations)\n",
        "  else:\n",
        "    plt.imshow(image_np_with_annotations)"
      ]
    },
    {
      "cell_type": "markdown",
      "metadata": {
        "id": "Pv6ZrwO4yXLL"
      },
      "source": [
        "Rubber Ducky data\n",
        "We will start with some toy (literally) data consisting of 5 images of a rubber ducky. Note that the coco dataset contains a number of animals, but notably, it does not contain rubber duckies (or even ducks for that matter), so this is a novel class."
      ]
    },
    {
      "cell_type": "code",
      "execution_count": null,
      "metadata": {
        "id": "QKKR_y5CyTBD"
      },
      "outputs": [],
      "source": [
        "# Load images and visualize\n",
        "train_image_dir = 'models/research/object_detection/test_images/ducky/train/'\n",
        "train_images_np = []\n",
        "for i in range(1, 6):\n",
        "  image_path = os.path.join(train_image_dir, 'robertducky' + str(i) + '.jpg')\n",
        "  train_images_np.append(load_image_into_numpy_array(image_path))\n",
        "\n",
        "plt.rcParams['axes.grid'] = False\n",
        "plt.rcParams['xtick.labelsize'] = False\n",
        "plt.rcParams['ytick.labelsize'] = False\n",
        "plt.rcParams['xtick.top'] = False\n",
        "plt.rcParams['xtick.bottom'] = False\n",
        "plt.rcParams['ytick.left'] = False\n",
        "plt.rcParams['ytick.right'] = False\n",
        "plt.rcParams['figure.figsize'] = [14, 7]\n",
        "\n",
        "for idx, train_image_np in enumerate(train_images_np):\n",
        "  plt.subplot(2, 3, idx+1)\n",
        "  plt.imshow(train_image_np)\n",
        "plt.show()"
      ]
    },
    {
      "cell_type": "markdown",
      "metadata": {
        "id": "IhvVi5pYyfI-"
      },
      "source": [
        "Annotate images with bounding boxes\n"
      ]
    },
    {
      "cell_type": "code",
      "execution_count": null,
      "metadata": {
        "id": "VLnV7SJKyblX"
      },
      "outputs": [],
      "source": [
        "gt_boxes = []\n",
        "colab_utils.annotate(train_images_np, box_storage_pointer=gt_boxes)"
      ]
    },
    {
      "cell_type": "code",
      "execution_count": null,
      "metadata": {
        "id": "iSeLhcgAyfwN"
      },
      "outputs": [],
      "source": [
        "gt_boxes"
      ]
    },
    {
      "cell_type": "code",
      "execution_count": null,
      "metadata": {
        "id": "H5bKdoNay-Uy"
      },
      "outputs": [],
      "source": [
        "# By convention, our non-background classes start counting at 1.  Given\n",
        "# that we will be predicting just one class, we will therefore assign it a\n",
        "# `class id` of 1.\n",
        "duck_class_id = 1\n",
        "num_classes = 1\n",
        "new_object_name = 'rubber_ducky'\n",
        "\n",
        "category_index = {duck_class_id: {'id': duck_class_id, 'name': new_object_name}}\n",
        "\n",
        "# Convert class labels to one-hot; convert everything to tensors.\n",
        "# The `label_id_offset` here shifts all classes by a certain number of indices;\n",
        "# we do this here so that the model receives one-hot labels where non-background\n",
        "# classes start counting at the zeroth index.  This is ordinarily just handled\n",
        "# automatically in our training binaries, but we need to reproduce it here.\n",
        "label_id_offset = 1\n",
        "train_image_tensors = []\n",
        "gt_classes_one_hot_tensors = []\n",
        "gt_box_tensors = []\n",
        "for (train_image_np, gt_box_np) in zip(\n",
        "    train_images_np, gt_boxes):\n",
        "  train_image_tensors.append(tf.expand_dims(tf.convert_to_tensor(\n",
        "      train_image_np, dtype=tf.float32), axis=0))\n",
        "  gt_box_tensors.append(tf.convert_to_tensor(gt_box_np, dtype=tf.float32))\n",
        "  zero_indexed_groundtruth_classes = tf.convert_to_tensor(\n",
        "      np.ones(shape=[gt_box_np.shape[0]], dtype=np.int32) - label_id_offset)\n",
        "  gt_classes_one_hot_tensors.append(tf.one_hot(\n",
        "      zero_indexed_groundtruth_classes, num_classes))\n",
        "print('Done prepping data.')"
      ]
    },
    {
      "cell_type": "code",
      "execution_count": null,
      "metadata": {
        "id": "M6ozDFxnzdfk"
      },
      "outputs": [],
      "source": [
        "dummy_scores = np.array([1.0], dtype=np.float32)  # give boxes a score of 100%\n",
        "\n",
        "plt.figure(figsize=(30, 15))\n",
        "for idx in range(5):\n",
        "  plt.subplot(2, 3, idx+1)\n",
        "  plot_detections(\n",
        "      train_images_np[idx],\n",
        "      gt_boxes[idx],\n",
        "      np.ones(shape=[gt_boxes[idx].shape[0]], dtype=np.int32),\n",
        "      dummy_scores, category_index)\n",
        "plt.show()"
      ]
    },
    {
      "cell_type": "code",
      "execution_count": null,
      "metadata": {
        "id": "hyKb15WXzgot"
      },
      "outputs": [],
      "source": []
    }
  ],
  "metadata": {
    "accelerator": "GPU",
    "colab": {
      "collapsed_sections": [],
      "provenance": []
    },
    "kernelspec": {
      "display_name": "Python 3.9.10 ('base')",
      "language": "python",
      "name": "python3"
    },
    "language_info": {
      "codemirror_mode": {
        "name": "ipython",
        "version": 3
      },
      "file_extension": ".py",
      "mimetype": "text/x-python",
      "name": "python",
      "nbconvert_exporter": "python",
      "pygments_lexer": "ipython3",
      "version": "3.9.10"
    },
    "vscode": {
      "interpreter": {
        "hash": "b938502eb84e9cceecd87413eb2456eca751842b04c12b6b35c4449d7989a1b1"
      }
    }
  },
  "nbformat": 4,
  "nbformat_minor": 0
}
